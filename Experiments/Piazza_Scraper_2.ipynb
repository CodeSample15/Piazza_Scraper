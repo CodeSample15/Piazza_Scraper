{
 "cells": [
  {
   "cell_type": "markdown",
   "id": "db424a7d-c5c2-4f7a-9fc3-1dfb399ab67d",
   "metadata": {},
   "source": [
    "A way better approach using [this library](https://github.com/hfaran/piazza-api/tree/develop)"
   ]
  },
  {
   "cell_type": "code",
   "execution_count": 3,
   "id": "98617291-2409-4603-bb0a-0877f5624c3d",
   "metadata": {},
   "outputs": [],
   "source": [
    "import os\n",
    "from piazza_api import Piazza\n",
    "import getpass"
   ]
  },
  {
   "cell_type": "code",
   "execution_count": 4,
   "id": "4da8d1f8-7618-4971-be14-3cfccb163afc",
   "metadata": {},
   "outputs": [],
   "source": [
    "USERNAME_ENV_VARIABLE = 'PIAZZA_UN'\n",
    "PASSWORD_ENV_VARIABLE = 'PIAZZA_PSWD'"
   ]
  },
  {
   "cell_type": "code",
   "execution_count": 5,
   "id": "793c5e12-d811-4f46-98f1-46800b4de6b6",
   "metadata": {},
   "outputs": [],
   "source": [
    "#reset environment variables (if needed)\n",
    "os.environ[USERNAME_ENV_VARIABLE] = ''\n",
    "os.environ[PASSWORD_ENV_VARIABLE] = ''"
   ]
  },
  {
   "cell_type": "code",
   "execution_count": 6,
   "id": "0adb9c9e-f547-4a9f-978a-6ead35c356c1",
   "metadata": {},
   "outputs": [
    {
     "name": "stdin",
     "output_type": "stream",
     "text": [
      "Enter email for login:  luc528@lehigh.edu\n",
      "Enter password for login:  ········\n"
     ]
    }
   ],
   "source": [
    "#get credentials\n",
    "if not os.getenv(USERNAME_ENV_VARIABLE) or os.getenv(USERNAME_ENV_VARIABLE) == '':\n",
    "    os.environ[USERNAME_ENV_VARIABLE] = input('Enter email for login: ')\n",
    "if not os.getenv(PASSWORD_ENV_VARIABLE) or os.getenv(PASSWORD_ENV_VARIABLE) == '':\n",
    "    os.environ[PASSWORD_ENV_VARIABLE] = getpass.getpass('Enter password for login: ')"
   ]
  },
  {
   "cell_type": "code",
   "execution_count": 60,
   "id": "1ca5a0ab-6456-4804-85ad-12a46b89e9a0",
   "metadata": {},
   "outputs": [],
   "source": [
    "COURSE_ID = 'm470f2rs65zff'\n",
    "\n",
    "p = Piazza()\n",
    "p.user_login(email=os.getenv(USERNAME_ENV_VARIABLE), password=os.getenv(PASSWORD_ENV_VARIABLE))\n",
    "course = p.network(COURSE_ID)\n",
    "\n",
    "'''\n",
    "    posts { \n",
    "        'folder1': [\n",
    "            {\n",
    "                'subject' : 'post subject',\n",
    "                'content' : 'post content',\n",
    "                'replies' : ['reply 1', 'reply 2', 'reply 3',]\n",
    "            },\n",
    "            {\n",
    "                ...\n",
    "            },\n",
    "        ],\n",
    "    }\n",
    "'''\n",
    "\n",
    "posts = {}\n",
    "p = []\n",
    "for post in course.iter_all_posts(limit=10):\n",
    "    p.append(post)\n",
    "\n",
    "    p_data = {} #post data\n",
    "\n",
    "    #put main post content\n",
    "    p_data['subject'] = post['history'][0]['subject']\n",
    "    p_data['content'] = post['history'][0]['content']\n",
    "\n",
    "    #add replies and follow up discussion\n",
    "    replies = []\n",
    "    for child in post['children']:\n",
    "        if 'history' in child.keys():\n",
    "            replies.append(child['history'][0]['content'])\n",
    "        else:\n",
    "            replies.append(child['subject'])\n",
    "    p_data['replies'] = replies\n",
    "    \n",
    "    for folder in post['folders']:\n",
    "        if folder not in posts.keys():\n",
    "            posts[folder] = []\n",
    "        \n",
    "        posts[folder].append(p_data)"
   ]
  },
  {
   "cell_type": "code",
   "execution_count": 59,
   "id": "63fdc9d5-932f-4f0e-9693-5babe5b309d7",
   "metadata": {},
   "outputs": [
    {
     "data": {
      "text/plain": [
       "{'week9': [{'subject': 'Progress Report Length',\n",
       "   'content': 'Is it okay if the progress report is a little over 2 pages or does it have to be between 1 to 2 pages?',\n",
       "   'replies': []}],\n",
       " 'general': [{'subject': 'Group Project Group Number',\n",
       "   'content': 'How do we tell what group number we are for the project? I am trying to fill out our progress report and can&#39;t find the group number anywhere.\\xa0',\n",
       "   'replies': ['If you are from my section (Wednesdays @3pm), I shared a google sheet that has everyone&#39;s group and the corresponding number. If not, you can email your head TA.']},\n",
       "  {'subject': 'Group 1 Next Quiz',\n",
       "   'content': 'What can we expect to be on the next quiz for group 1? Will it be modules/files/exceptions?',\n",
       "   'replies': ['The next quiz will cover modules, files and exceptions and sets and dictionaries (lectures 8 and 9).']},\n",
       "  {'subject': 'Study for Quizzes',\n",
       "   'content': 'Does anyone have advice about helpful study tips for the quizzes or helpful notes on their note card?',\n",
       "   'replies': ['Practice until you can do the practice problems quickly and easily.']},\n",
       "  {'subject': 'Issue with slicing',\n",
       "   'content': '<p>I&#39;m trying to use slicing in NumPy to create an array with the first four elements of an array in reverse order. I expected this code to return [4, 3, 2, 1], but instead, I get an empty array [ ].</p>\\n<p></p>\\n<p>array1 = np.array([1, 2, 3, 4, 5, 6, 7, 8, 9, 10])</p>\\n<p>array2 = array1[3:-1:-1]\\xa0</p>\\n<p>print(array2)</p>\\n<p></p>\\n<p>Can someone help me understand what&#39;s wrong with my slicing? Thanks!</p>',\n",
       "   'replies': ['Your slice [3:-1:-1] is moving backwards (-1) from 3 to -1 (the last element).\\xa0 Since you can&#39;t go backwards from 3 to -1 (i.e. Python doesn&#39;t &#34;wrap around&#34; the array to start over at the end), the slice will be empty.\\xa0 If you want to go backwards, your first element needs to be greater than the second element, i.e. [-1:3:-1].',\n",
       "    'Thanks! That makes sense. I fixed it by using array1[3: :-1], which correctly slices backward from index 3 to 0, giving the expected result [4, 3, 2, 1]. Appreciate the explanation!']},\n",
       "  {'subject': 'E3 Group 3 analysis report',\n",
       "   'content': '<p><img src=\"/redirect/s3?bucket=uploads&amp;prefix=paste%2Fm09yd6n69um5fo%2F3dcb7e7b2333801c695cbc102445b576846a2646a9d145583588eb2935eea586%2Fimage.png\" alt=\"image.png\" /></p>\\n<p>Are we able to put anything for the analysis notes or are we actually printing something specific depending on the data?</p>',\n",
       "   'replies': ['Write an analysis based on your results.\\xa0']},\n",
       "  {'subject': 'confused about &#34;f&#34; in python',\n",
       "   'content': '<p dir=\"ltr\">What does the f in printing mean? For example, what is the difference between “print(“Hello”)” and “print(f”Hello”)”?</p>',\n",
       "   'replies': ['This is print formatting. It allows you to format what you want to print in certain ways, such as rounding a float to a certain number of decimal places. Including the f enables formatting. Additionally, if you have a variable x=5, for example, you can do &#34;print(f&#34;{x}&#34;)&#34; rather than &#34;print(&#34;5&#34;)&#34;. The advantage of this might not be apparent with my example, but it is very helpful for structuring and organizing things that you want to print.',\n",
       "    'See <a href=\"https://www.w3schools.com/python/python_string_formatting.asp\" target=\"_blank\" rel=\"noopener noreferrer\">this link </a>for more details on f-strings.']},\n",
       "  {'subject': 'Group Project',\n",
       "   'content': 'Since we are working in groups, what is the best way to mutually work on the same code?',\n",
       "   'replies': ['I have the same question, but I looked it up and there are a few possible ways to do it. There are websites like replit.com that allow for live simultaneous coding (like Google Docs). You can also apparently use VSCode with a Microsoft Live Share extension.',\n",
       "    'Using Git with branching to handle simultaneous editing is also an option. You can do this via Github. You may want a Google Doc with a To-Do List to simplify the process of merging everything, since git merge can result in mess sometimes.']},\n",
       "  {'subject': 'MPa',\n",
       "   'content': '<p><img src=\"/redirect/s3?bucket=uploads&amp;prefix=paste%2Fm09yd6n69um5fo%2Fe7ae852a835c4be8d319ff04562dcc7284fe0c8fdb22d898acba803aa1c158ab%2Fimage.png\" alt=\"image.png\" /></p>\\n<p></p>\\n<p>Are these values supposed to be GPa and not MPa? My slope calculations are giving correct values but only before I convert the MPa to GPa as specified by the program requirements.\\xa0</p>',\n",
       "   'replies': ['Are you getting approximately 1902 MPa, because that is what I got? If our values are similar, it should fine.',\n",
       "    'I&#39;m getting a (what I feel is a) correct answer: 190.25 but only when I don&#39;t convert the &#34;MPa&#34; data to GPa']},\n",
       "  {'subject': 'pdf format',\n",
       "   'content': 'What pdf are we supposed to submit for the engineering assignments? I got this comment on my last one. &#34; Next time try to remember to add in a pdf file&#34;. In the rubric it says to submit it as a notebook file (.ipynb).\\xa0',\n",
       "   'replies': ['PDF was a requirement in previous semesters but not this semester. The grader must have mixed it up. If you were deducted points because of this, please contact the grader.']}]}"
      ]
     },
     "execution_count": 59,
     "metadata": {},
     "output_type": "execute_result"
    }
   ],
   "source": [
    "posts"
   ]
  },
  {
   "cell_type": "code",
   "execution_count": 7,
   "id": "0b4806d6-ef2d-475c-8e9e-3b9bc6576df2",
   "metadata": {},
   "outputs": [],
   "source": [
    "COURSE_ID = 'm5fj64nwf055vx'\n",
    "\n",
    "p = Piazza()\n",
    "p.user_login(email=os.getenv(USERNAME_ENV_VARIABLE), password=os.getenv(PASSWORD_ENV_VARIABLE))\n",
    "course = p.network(COURSE_ID)\n",
    "\n",
    "posts = []\n",
    "for post in course.iter_all_posts(limit=10):\n",
    "    posts.append(post)"
   ]
  },
  {
   "cell_type": "code",
   "execution_count": 21,
   "id": "05256db9-1687-48aa-aef7-43802332b4e8",
   "metadata": {},
   "outputs": [
    {
     "name": "stdout",
     "output_type": "stream",
     "text": [
      "he\n",
      "no\n",
      "he\n",
      "no\n"
     ]
    }
   ],
   "source": [
    "for child in posts[5]['children']:\n",
    "    if 'history' in child.keys():\n",
    "        if child['history'][0]['anon'] == 'no':\n",
    "            print(child['history'][0]['uid'])\n",
    "    else:\n",
    "        print(\"he\")\n",
    "        print(child['anon'])"
   ]
  },
  {
   "cell_type": "code",
   "execution_count": 23,
   "id": "6f29cd92-60f4-401f-b626-95f516efa7f2",
   "metadata": {},
   "outputs": [
    {
     "data": {
      "text/plain": [
       "[{'anon': 'no',\n",
       "  'uid': 'kkjtujv3g5n8c',\n",
       "  'subject': 'Office Hours today',\n",
       "  'created': '2025-03-26T22:41:10Z',\n",
       "  'content': '<p>Hi all,</p>\\n<p></p>\\n<p>Just a quick note to let you know that I won&#39;t be hosting office hours today due to a last minute schedule change. If you were planning on attending, please email me with your questions or we could arrange a private meeting if need be.\\xa0</p>\\n<p></p>\\n<p>Alex</p>'}]"
      ]
     },
     "execution_count": 23,
     "metadata": {},
     "output_type": "execute_result"
    }
   ],
   "source": [
    "posts[1]['history']"
   ]
  },
  {
   "cell_type": "code",
   "execution_count": 33,
   "id": "2760fc7a-aa31-4990-9533-69b1d66e9160",
   "metadata": {},
   "outputs": [
    {
     "data": {
      "text/plain": [
       "['tes', 'sef']"
      ]
     },
     "execution_count": 33,
     "metadata": {},
     "output_type": "execute_result"
    }
   ],
   "source": [
    "test = ['tes', 'sef', 'hi', 'hi']\n",
    "list(filter(lambda x: x!='hi', set(test)))"
   ]
  },
  {
   "cell_type": "code",
   "execution_count": 24,
   "id": "a52e593d-0b43-4760-9eee-1cce525924dc",
   "metadata": {},
   "outputs": [
    {
     "name": "stdout",
     "output_type": "stream",
     "text": [
      "['l74n1qdt84h6sz', 'ksosq7fsy8m2rd', 'kyixnhsn1hh1w7', 'kkjtujv3g5n8c', 'kyj2mpt7xpp4l5', 'kykkghnoscf7mb', 'kyes4znrig57hg', 'k4ol7feww3k2rd', 'ldbqbsx6w1elh']\n",
      "['Muhammad Mukarram Arif', 'Allison Goldstein', 'Tommy Parisi', 'Alexander Clevenger', 'Jon Klein', 'Thor Long', 'Marco Clark', 'Mooi Choo Chuah', 'Dylan Coffey']\n"
     ]
    },
    {
     "data": {
      "text/plain": [
       "{'l74n1qdt84h6sz': 'Muhammad Mukarram Arif',\n",
       " 'ksosq7fsy8m2rd': 'Allison Goldstein',\n",
       " 'kyixnhsn1hh1w7': 'Tommy Parisi',\n",
       " 'kkjtujv3g5n8c': 'Alexander Clevenger',\n",
       " 'kyj2mpt7xpp4l5': 'Jon Klein',\n",
       " 'kykkghnoscf7mb': 'Thor Long',\n",
       " 'kyes4znrig57hg': 'Marco Clark',\n",
       " 'k4ol7feww3k2rd': 'Mooi Choo Chuah',\n",
       " 'ldbqbsx6w1elh': 'Dylan Coffey'}"
      ]
     },
     "execution_count": 24,
     "metadata": {},
     "output_type": "execute_result"
    }
   ],
   "source": [
    "p = Piazza()\n",
    "p.user_login(email=os.getenv(USERNAME_ENV_VARIABLE), password=os.getenv(PASSWORD_ENV_VARIABLE))\n",
    "course = p.network(COURSE_ID)\n",
    "\n",
    "uids = ['anon', 'anon', 'k4ol7feww3k2rd', 'anon', 'k4ol7feww3k2rd', 'k4ol7feww3k2rd', 'anon', 'anon', 'k4ol7feww3k2rd', 'anon', 'k4ol7feww3k2rd', 'kkjtujv3g5n8c', 'kkjtujv3g5n8c', 'kkjtujv3g5n8c', 'anon', 'ldbqbsx6w1elh', 'ldbqbsx6w1elh', 'anon', 'k4ol7feww3k2rd', 'kykkghnoscf7mb', 'anon', 'kykkghnoscf7mb', 'kyj2mpt7xpp4l5', 'kyj2mpt7xpp4l5', 'ldbqbsx6w1elh', 'kyes4znrig57hg', 'anon', 'kyj2mpt7xpp4l5', 'anon', 'kyj2mpt7xpp4l5', 'anon', 'anon', 'kyes4znrig57hg', 'kyj2mpt7xpp4l5', 'l74n1qdt84h6sz', 'k4ol7feww3k2rd', 'l74n1qdt84h6sz', 'anon', 'k4ol7feww3k2rd', 'k4ol7feww3k2rd', 'anon', 'k4ol7feww3k2rd', 'k4ol7feww3k2rd', 'kkjtujv3g5n8c', 'anon', 'anon', 'anon', 'kkjtujv3g5n8c', 'anon', 'anon', 'anon', 'anon', 'ksosq7fsy8m2rd', 'anon', 'anon', 'anon', 'anon', 'anon', 'kyj2mpt7xpp4l5', 'anon', 'anon', 'anon', 'kkjtujv3g5n8c', 'anon', 'anon', 'k4ol7feww3k2rd', 'anon', 'anon', 'kyixnhsn1hh1w7', 'l74n1qdt84h6sz', 'kkjtujv3g5n8c', 'anon', 'k4ol7feww3k2rd', 'anon', 'anon', 'anon', 'anon', 'anon', 'kyj2mpt7xpp4l5', 'anon', 'anon', 'kyj2mpt7xpp4l5', 'anon', 'ksosq7fsy8m2rd', 'kkjtujv3g5n8c', 'anon', 'anon', 'anon', 'anon', 'k4ol7feww3k2rd', 'anon', 'k4ol7feww3k2rd', 'anon', 'anon', 'k4ol7feww3k2rd', 'anon', 'kkjtujv3g5n8c', 'anon', 'k4ol7feww3k2rd', 'kyj2mpt7xpp4l5', 'k4ol7feww3k2rd', 'anon', 'k4ol7feww3k2rd', 'anon', 'anon', 'kkjtujv3g5n8c', 'anon', 'kyj2mpt7xpp4l5', 'anon', 'kyj2mpt7xpp4l5', 'anon', 'kkjtujv3g5n8c', 'anon', 'kkjtujv3g5n8c', 'anon', 'kyj2mpt7xpp4l5', 'anon', 'anon', 'kyj2mpt7xpp4l5', 'anon', 'anon', 'kkjtujv3g5n8c', 'k4ol7feww3k2rd', 'anon', 'kkjtujv3g5n8c', 'anon', 'anon', 'k4ol7feww3k2rd', 'anon', 'anon', 'k4ol7feww3k2rd', 'anon', 'k4ol7feww3k2rd', 'anon']\n",
    "uids = list(filter(lambda x: x!='anon', set(uids)))\n",
    "print(uids)\n",
    "\n",
    "names = []\n",
    "for uid in uids:\n",
    "    names.append(course.get_users([uid,])[0])\n",
    "print([n['name'] for n in names])\n",
    "\n",
    "#build uid-name dict\n",
    "name_dict = {}\n",
    "for name, uid in zip(names, uids):\n",
    "    name_dict[uid] = name['name']\n",
    "name_dict"
   ]
  },
  {
   "cell_type": "code",
   "execution_count": null,
   "id": "d99b0020-b48c-4d70-acfd-9e0b4e3d0669",
   "metadata": {},
   "outputs": [],
   "source": []
  }
 ],
 "metadata": {
  "kernelspec": {
   "display_name": "Python 3 (ipykernel)",
   "language": "python",
   "name": "python3"
  },
  "language_info": {
   "codemirror_mode": {
    "name": "ipython",
    "version": 3
   },
   "file_extension": ".py",
   "mimetype": "text/x-python",
   "name": "python",
   "nbconvert_exporter": "python",
   "pygments_lexer": "ipython3",
   "version": "3.9.21"
  }
 },
 "nbformat": 4,
 "nbformat_minor": 5
}
