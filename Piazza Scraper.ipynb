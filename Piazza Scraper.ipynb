{
 "cells": [
  {
   "cell_type": "code",
   "execution_count": 1,
   "id": "3c71bf9b",
   "metadata": {
    "ExecuteTime": {
     "end_time": "2025-03-23T21:19:06.862275Z",
     "start_time": "2025-03-23T21:19:05.764740Z"
    }
   },
   "outputs": [],
   "source": [
    "import time\n",
    "import getpass\n",
    "import os\n",
    "import sys\n",
    "from tqdm.notebook import tqdm as log_progress\n",
    "\n",
    "from selenium import webdriver\n",
    "from selenium.webdriver.chrome.options import Options\n",
    "from selenium.webdriver.common.by import By"
   ]
  },
  {
   "cell_type": "code",
   "execution_count": 2,
   "id": "8806190c",
   "metadata": {
    "ExecuteTime": {
     "end_time": "2025-03-23T21:19:11.159548Z",
     "start_time": "2025-03-23T21:19:11.136022Z"
    }
   },
   "outputs": [],
   "source": [
    "#define constants\n",
    "USERNAME_ENV_VARIABLE = 'PIAZZA_UN'\n",
    "PASSWORD_ENV_VARIABLE = 'PIAZZA_PSWD'\n",
    "\n",
    "CHROMEDRIVER_PATH = 'C:/tools/chrome-driver/chromedriver.exe'"
   ]
  },
  {
   "cell_type": "code",
   "execution_count": 11,
   "id": "4c4235d8",
   "metadata": {
    "ExecuteTime": {
     "end_time": "2025-03-23T20:47:17.573619Z",
     "start_time": "2025-03-23T20:47:17.557395Z"
    }
   },
   "outputs": [],
   "source": [
    "#reset environment variables (if needed)\n",
    "os.environ[USERNAME_ENV_VARIABLE] = ''\n",
    "os.environ[PASSWORD_ENV_VARIABLE] = ''"
   ]
  },
  {
   "cell_type": "code",
   "execution_count": 3,
   "id": "86ebb8d4",
   "metadata": {
    "ExecuteTime": {
     "end_time": "2025-03-23T21:19:20.674976Z",
     "start_time": "2025-03-23T21:19:12.745586Z"
    }
   },
   "outputs": [
    {
     "name": "stdin",
     "output_type": "stream",
     "text": [
      "Enter email for login:  luc528@lehigh.edu\n",
      "Enter password for login:  ········\n"
     ]
    }
   ],
   "source": [
    "#get credentials\n",
    "if not os.getenv(USERNAME_ENV_VARIABLE) or os.getenv(USERNAME_ENV_VARIABLE) == '':\n",
    "    os.environ[USERNAME_ENV_VARIABLE] = input('Enter email for login: ')\n",
    "if not os.getenv(PASSWORD_ENV_VARIABLE) or os.getenv(PASSWORD_ENV_VARIABLE) == '':\n",
    "    os.environ[PASSWORD_ENV_VARIABLE] = getpass.getpass('Enter password for login: ')"
   ]
  },
  {
   "cell_type": "code",
   "execution_count": 4,
   "id": "c5932eed",
   "metadata": {
    "ExecuteTime": {
     "end_time": "2025-03-23T22:07:43.711071Z",
     "start_time": "2025-03-23T22:07:31.856390Z"
    }
   },
   "outputs": [
    {
     "name": "stdout",
     "output_type": "stream",
     "text": [
      "Logging in...\n",
      "Logged in, beginning scrape...\n"
     ]
    },
    {
     "data": {
      "application/vnd.jupyter.widget-view+json": {
       "model_id": "3e87960b7da94b3193b65c755a82b38d",
       "version_major": 2,
       "version_minor": 0
      },
      "text/plain": [
       "  0%|          | 0/340 [00:00<?, ?it/s]"
      ]
     },
     "metadata": {},
     "output_type": "display_data"
    },
    {
     "name": "stdout",
     "output_type": "stream",
     "text": [
      "[{'post': 'Grade Bump for Sections\\nAre there going to be grade bumps for groups 2 & 3?', 'replies': {'student': '', 'instructor': 'There will not be grade bumps for groups 2 & 3', 'follow-up': 'Start a new followup discussion'}}]\n"
     ]
    }
   ],
   "source": [
    "class_url = \"https://piazza.com/class/m470f2rs65zff\"\n",
    "\n",
    "options = Options()\n",
    "#options.add_argument('--headless')\n",
    "options.add_argument(\"--incognito\")\n",
    "options.add_argument(\"--nogpu\")\n",
    "options.add_argument(\"--disable-gpu\")\n",
    "options.add_argument(\"--window-size=1280,1280\")\n",
    "options.add_argument(\"--no-sandbox\")\n",
    "options.add_argument(\"--enable-javascript\")\n",
    "\n",
    "driver = webdriver.Chrome(CHROMEDRIVER_PATH, options=options)\n",
    "\n",
    "driver.get(class_url)\n",
    "\n",
    "#login\n",
    "print(\"Logging in...\")\n",
    "try:\n",
    "    driver.find_element_by_name(\"email\").send_keys(os.getenv(USERNAME_ENV_VARIABLE))\n",
    "    driver.find_element_by_name(\"password\").send_keys(os.getenv(PASSWORD_ENV_VARIABLE))\n",
    "    driver.find_element(By.XPATH, '//button[text()=\"Log in\"]').click()\n",
    "except Exception as e:\n",
    "    print(\"Error logging in!\")\n",
    "    print(e)\n",
    "    sys.exit()\n",
    "\n",
    "print(\"Logged in, beginning scrape...\")\n",
    "time.sleep(1) #wait for page to update\n",
    "\n",
    "#fetch total number of posts\n",
    "num_posts = int(driver.find_element(By.XPATH, '//*[@id=\"qanda-content\"]/article[2]/div/div[1]/div[2]/div[2]/div[1]').text)\n",
    "\n",
    "posts = []\n",
    "'''\n",
    "    posts [\n",
    "        {\n",
    "            \"post\": <post_content>,\n",
    "            \"replies\": {\n",
    "                'student': <text>,\n",
    "                'instructor': <text>,\n",
    "                'follow-up': <text>\n",
    "            }\n",
    "        },\n",
    "    ]\n",
    "'''\n",
    "#TODO: organize by category (different json for each homework assignment)\n",
    "\n",
    "#scrape all messages and responses\n",
    "for post_num in log_progress(range(1, num_posts+1)):\n",
    "    url = f'{class_url}/post/{post_num}'\n",
    "    \n",
    "    try:\n",
    "        driver.get(url)\n",
    "\n",
    "        post = driver.find_element(By.XPATH, '//*[@id=\"qaContentViewId\"]/div/div/div/div[2]').text\n",
    "        \n",
    "        student_answer = driver.find_element(By.XPATH, '//*[@id=\"qanda-content\"]/article[2]/div').text\n",
    "        instructor_answer = driver.find_element(By.XPATH, '//*[@id=\"qanda-content\"]/article[3]/div').text\n",
    "        follow_up = driver.find_element(By.XPATH, '//*[@id=\"qanda-content\"]/article[4]/div').text\n",
    "        \n",
    "        posts.append({})\n",
    "        posts[-1]['post'] = post\n",
    "        \n",
    "        posts[-1]['replies'] = {}\n",
    "        posts[-1]['replies']['student'] = student_answer\n",
    "        posts[-1]['replies']['instructor'] = instructor_answer\n",
    "        posts[-1]['replies']['follow-up'] = follow_up\n",
    "    except:\n",
    "        continue #just keep on goin\n",
    "    \n",
    "print(posts)\n",
    "driver.close()"
   ]
  },
  {
   "cell_type": "code",
   "execution_count": null,
   "id": "34fd6e6e",
   "metadata": {},
   "outputs": [],
   "source": []
  }
 ],
 "metadata": {
  "kernelspec": {
   "display_name": "Python 3 (ipykernel)",
   "language": "python",
   "name": "python3"
  },
  "language_info": {
   "codemirror_mode": {
    "name": "ipython",
    "version": 3
   },
   "file_extension": ".py",
   "mimetype": "text/x-python",
   "name": "python",
   "nbconvert_exporter": "python",
   "pygments_lexer": "ipython3",
   "version": "3.9.21"
  }
 },
 "nbformat": 4,
 "nbformat_minor": 5
}
